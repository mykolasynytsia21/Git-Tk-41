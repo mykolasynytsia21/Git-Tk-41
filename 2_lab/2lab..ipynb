{
 "cells": [
  {
   "cell_type": "markdown",
   "metadata": {},
   "source": [
    " List"
   ]
  },
  {
   "cell_type": "code",
   "execution_count": 1,
   "metadata": {},
   "outputs": [
    {
     "name": "stdout",
     "output_type": "stream",
     "text": [
      "['String', 25.694, ['abc', 258, 'xyz'], '!!!', 15, 'це буде вкінці'] Виводжу елемент під номером 0 який є String\n"
     ]
    }
   ],
   "source": [
    "ll = [\"String\", 15, 25.694, [\"abc\", 258, \"xyz\"], \"!!!\", 15]\n",
    "\n",
    "ll.append(\"цЕ БУДЕ ВКІНЦІ\".lower())\n",
    "ll.remove(15)\n",
    "\n",
    "ll[0]\n",
    "\n",
    "print(ll, f\"Виводжу елемент під номером {ll.index('String')} який є {ll[0]}\")"
   ]
  },
  {
   "cell_type": "markdown",
   "metadata": {},
   "source": [
    "Set"
   ]
  },
  {
   "cell_type": "code",
   "execution_count": 2,
   "metadata": {},
   "outputs": [
    {
     "name": "stdout",
     "output_type": "stream",
     "text": [
      "Всі елементи: {1, 'string', 'abc', 'String', 15}\n",
      "Елементи після видалення: {'string', 'abc', 15}\n"
     ]
    }
   ],
   "source": [
    "ss = {1, 1.0, \"string\", \"String\", \"abc\", 15, \"abc\"}\n",
    "print(f\"Всі елементи: {ss}\")\n",
    "ss.pop()\n",
    "ss.remove(\"String\")\n",
    "ss.add(15)\n",
    "print(f\"Елементи після видалення: {ss}\")"
   ]
  }
 ],
 "metadata": {
  "kernelspec": {
   "display_name": "Python 3.10.7 64-bit",
   "language": "python",
   "name": "python3"
  },
  "language_info": {
   "codemirror_mode": {
    "name": "ipython",
    "version": 3
   },
   "file_extension": ".py",
   "mimetype": "text/x-python",
   "name": "python",
   "nbconvert_exporter": "python",
   "pygments_lexer": "ipython3",
   "version": "3.10.7"
  },
  "orig_nbformat": 4,
  "vscode": {
   "interpreter": {
    "hash": "d47541450310ac3f9a6bcc2e4b2d4482938d1911c0e163a85d4a6236ce7f3d8d"
   }
  }
 },
 "nbformat": 4,
 "nbformat_minor": 2
}
