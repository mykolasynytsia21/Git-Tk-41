{
 "cells": [
  {
   "cell_type": "markdown",
   "metadata": {},
   "source": [
    " List"
   ]
  },
  {
   "cell_type": "code",
   "execution_count": 1,
   "metadata": {},
   "outputs": [
    {
     "name": "stdout",
     "output_type": "stream",
     "text": [
      "['String', 25.694, ['abc', 258, 'xyz'], '!!!', 15, 'це буде вкінці'] Виводжу елемент під номером 0 який є String\n"
     ]
    }
   ],
   "source": [
    "ll = [\"String\", 15, 25.694, [\"abc\", 258, \"xyz\"], \"!!!\", 15]\n",
    "\n",
    "ll.append(\"цЕ БУДЕ ВКІНЦІ\".lower())\n",
    "ll.remove(15)\n",
    "\n",
    "ll[0]\n",
    "\n",
    "print(ll, f\"Виводжу елемент під номером {ll.index('String')} який є {ll[0]}\")"
   ]
  },
  {
   "cell_type": "markdown",
   "metadata": {},
   "source": [
    "Set"
   ]
  },
  {
   "cell_type": "code",
   "execution_count": 2,
   "metadata": {},
   "outputs": [
    {
     "name": "stdout",
     "output_type": "stream",
     "text": [
      "Всі елементи: {1, 'string', 'abc', 'String', 15}\n",
      "Елементи після видалення: {'string', 'abc', 15}\n"
     ]
    }
   ],
   "source": [
    "ss = {1, 1.0, \"string\", \"String\", \"abc\", 15, \"abc\"}\n",
    "print(f\"Всі елементи: {ss}\")\n",
    "ss.pop()\n",
    "ss.remove(\"String\")\n",
    "ss.add(15)\n",
    "print(f\"Елементи після видалення: {ss}\")"
   ]
  },
  {
   "cell_type": "markdown",
   "metadata": {},
   "source": [
    "Цикли"
   ]
  },
  {
   "cell_type": "code",
   "execution_count": 2,
   "metadata": {},
   "outputs": [
    {
     "name": "stdout",
     "output_type": "stream",
     "text": [
      "О ні!!!\n",
      "О ні!!!\n",
      "О ні!!!\n",
      "О ні!!!\n",
      "Виходимо з циклу\n"
     ]
    }
   ],
   "source": [
    "it = [5, 8, \"abc\", \"Кінець\"]\n",
    "i = 0\n",
    "while True:\n",
    "    print(\"О ні!!!\")\n",
    "    if it[i] == \"Кінець\":\n",
    "        print(\"Виходимо з циклу\")\n",
    "        break\n",
    "    i += 1"
   ]
  },
  {
   "cell_type": "markdown",
   "metadata": {},
   "source": [
    "Розгалуження"
   ]
  },
  {
   "cell_type": "code",
   "execution_count": 1,
   "metadata": {},
   "outputs": [
    {
     "name": "stdout",
     "output_type": "stream",
     "text": [
      "Залишилось =  0\n",
      "Рівне 1? = 1\n",
      "Рівне 2? = 2\n",
      "Рівне 3? = 3\n",
      "Залишилось =  4\n",
      "ні\n",
      "Вони Не рівні\n",
      "1\n"
     ]
    }
   ],
   "source": [
    "for A in range(5):\n",
    "    if A == 1:\n",
    "        print(\"Рівне 1? =\", A)\n",
    "    elif A == 2:\n",
    "        print(\"Рівне 2? =\", A)\n",
    "    elif A == 3:\n",
    "        print(\"Рівне 3? =\", A)\n",
    "    else:\n",
    "        print(\"Залишилось = \", A)\n",
    "\n",
    "if 2 in [5, 4, 6]:\n",
    "    print(\"так\")\n",
    "else:\n",
    "    print(\"ні\")\n",
    "\n",
    "a = 1\n",
    "b = 1.0\n",
    "if type(a) is type(b):\n",
    "    print(\"Типи рівні\")\n",
    "elif a is b:\n",
    "    print(\"Обєкти рівні\")\n",
    "else:\n",
    "    print(\"Вони Не рівні\")\n",
    "\n",
    "\n",
    "if_var = a if a > 0 else -1\n",
    "print(if_var)"
   ]
  },
  {
   "cell_type": "markdown",
   "metadata": {},
   "source": [
    "Виявлення помилок"
   ]
  },
  {
   "cell_type": "code",
   "execution_count": 7,
   "metadata": {},
   "outputs": [
    {
     "name": "stdout",
     "output_type": "stream",
     "text": [
      "Це виконається\n"
     ]
    },
    {
     "ename": "TypeError",
     "evalue": "Ми самі створили виняток типу Помилки",
     "output_type": "error",
     "traceback": [
      "\u001b[1;31m---------------------------------------------------------------------------\u001b[0m",
      "\u001b[1;31mTypeError\u001b[0m                                 Traceback (most recent call last)",
      "Cell \u001b[1;32mIn [7], line 2\u001b[0m\n\u001b[0;32m      1\u001b[0m \u001b[38;5;28mprint\u001b[39m(\u001b[38;5;124m\"\u001b[39m\u001b[38;5;124mЦе виконається\u001b[39m\u001b[38;5;124m\"\u001b[39m)\n\u001b[1;32m----> 2\u001b[0m \u001b[38;5;28;01mraise\u001b[39;00m \u001b[38;5;167;01mTypeError\u001b[39;00m(\u001b[38;5;124m\"\u001b[39m\u001b[38;5;124mМи самі створили виняток типу Помилки\u001b[39m\u001b[38;5;124m\"\u001b[39m)\n\u001b[0;32m      3\u001b[0m \u001b[38;5;28mprint\u001b[39m(\u001b[38;5;124m\"\u001b[39m\u001b[38;5;124mЦе ніколи не виведеться\u001b[39m\u001b[38;5;124m\"\u001b[39m)\n",
      "\u001b[1;31mTypeError\u001b[0m: Ми самі створили виняток типу Помилки"
     ]
    }
   ],
   "source": [
    "print(\"Це виконається\")\n",
    "raise TypeError(\"Ми самі створили виняток типу Помилки\")\n",
    "print(\"Це ніколи не виведеться\")"
   ]
  },
  {
   "cell_type": "code",
   "execution_count": 8,
   "metadata": {},
   "outputs": [
    {
     "name": "stdout",
     "output_type": "stream",
     "text": [
      "Починаємо ділення на 5\n",
      "Що буде якщо 2.0 ?\n",
      "В нас сталась помилка!!! ->>> name 'NonEixstingValue' is not defined\n",
      "А вот воно що!\n",
      "Починаємо ділення на 0\n",
      "В нас сталась помилка!!! ->>> division by zero\n",
      "А вот воно що!\n",
      "Починаємо ділення на 2\n",
      "Що буде якщо 5.0 ?\n",
      "В нас сталась помилка!!! ->>> name 'NonEixstingValue' is not defined\n",
      "А вот воно що!\n"
     ]
    }
   ],
   "source": [
    "for A in [5, 0, 2]:\n",
    "    print(\"Починаємо ділення на\", A)\n",
    "    try:\n",
    "        print(f\"Що буде якщо {10/A} ?\")\n",
    "        print(NonEixstingValue)\n",
    "        raise RuntimeError(\"Це наша помилка!\")\n",
    "    except (RuntimeError, ZeroDivisionError, NameError) as e:\n",
    "        print(\"В нас сталась помилка!!! ->>>\", e)\n",
    "    finally:\n",
    "        print(\"А вот воно що!\")"
   ]
  },
  {
   "cell_type": "code",
   "execution_count": 9,
   "metadata": {},
   "outputs": [
    {
     "name": "stdout",
     "output_type": "stream",
     "text": [
      "Починаємо ділення на 5\n",
      "Що буде якщо 2.0 ?\n",
      "В нас сталась помилка!!! ->>> name 'NonEixstingValue' is not defined\n",
      "А вот воно що!\n",
      "Починаємо ділення на 0\n",
      "В нас сталась помилка!!! ->>> division by zero\n",
      "А вот воно що!\n",
      "Починаємо ділення на 2\n",
      "Що буде якщо 5.0 ?\n",
      "В нас сталась помилка!!! ->>> name 'NonEixstingValue' is not defined\n",
      "А вот воно що!\n"
     ]
    }
   ],
   "source": [
    "for A in [5, 0, 2]:\n",
    "    print(\"Починаємо ділення на\", A)\n",
    "    try:\n",
    "        print(f\"Що буде якщо {10/A} ?\")\n",
    "        print(NonEixstingValue)\n",
    "        raise RuntimeError(\"Це наша помилка!\")\n",
    "    except (RuntimeError, ZeroDivisionError, NameError) as e:\n",
    "        print(\"В нас сталась помилка!!! ->>>\", e)\n",
    "    finally:\n",
    "        print(\"А вот воно що!\")"
   ]
  },
  {
   "cell_type": "markdown",
   "metadata": {},
   "source": [
    "Lambdas"
   ]
  },
  {
   "cell_type": "code",
   "execution_count": 11,
   "metadata": {},
   "outputs": [
    {
     "name": "stdout",
     "output_type": "stream",
     "text": [
      "Це просто функція: <function my_name at 0x0000019FA6B91750>\n",
      "Моє імя Микола та прізвище Синиця\n",
      "Це просто лямбда функція: <function <lambda> at 0x0000019FA6B92200>\n",
      "Це її виклик: Цей код написав: Микола Синиця\n"
     ]
    }
   ],
   "source": [
    "def my_name(name, last):\n",
    "    return f\"Моє імя {name} та прізвище {last}\"\n",
    "\n",
    "print(\"Це просто функція:\", my_name)\n",
    "print(my_name(\"Микола\", \"Синиця\"))\n",
    "\n",
    "this_is_lambda = lambda first, last: f'Цей код написав: {first} {last}'\n",
    "print(\"Це просто лямбда функція:\", this_is_lambda)\n",
    "print(\"Це її виклик:\", this_is_lambda('Микола', 'Синиця'))"
   ]
  }
 ],
 "metadata": {
  "kernelspec": {
   "display_name": "Python 3.10.7 64-bit",
   "language": "python",
   "name": "python3"
  },
  "language_info": {
   "codemirror_mode": {
    "name": "ipython",
    "version": 3
   },
   "file_extension": ".py",
   "mimetype": "text/x-python",
   "name": "python",
   "nbconvert_exporter": "python",
   "pygments_lexer": "ipython3",
   "version": "3.10.7"
  },
  "orig_nbformat": 4,
  "vscode": {
   "interpreter": {
    "hash": "d47541450310ac3f9a6bcc2e4b2d4482938d1911c0e163a85d4a6236ce7f3d8d"
   }
  }
 },
 "nbformat": 4,
 "nbformat_minor": 2
}
